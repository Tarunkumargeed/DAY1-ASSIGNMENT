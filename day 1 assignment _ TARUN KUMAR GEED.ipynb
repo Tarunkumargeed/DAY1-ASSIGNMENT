{
 "cells": [
  {
   "cell_type": "raw",
   "metadata": {},
   "source": [
    "given the following jumbled word, OBANWRI , guess the correct english word\n",
    "\n",
    "A-  RANIBOW \n",
    "B-  RAINBOW\n",
    "C-  BOWRANI \n",
    "D-  ROBWANI \n",
    "\n",
    "\n",
    "ANS --- B-RAINBOW"
   ]
  },
  {
   "cell_type": "raw",
   "metadata": {},
   "source": [
    "Q-2 WRITE A PROGRAM TO PRINT \"LETS UPGRADE\""
   ]
  },
  {
   "cell_type": "code",
   "execution_count": 14,
   "metadata": {},
   "outputs": [
    {
     "name": "stdout",
     "output_type": "stream",
     "text": [
      "LETS UPGRADE\n"
     ]
    }
   ],
   "source": [
    "print(\"LETS UPGRADE\")"
   ]
  },
  {
   "cell_type": "raw",
   "metadata": {},
   "source": [
    "Q-3  Write a program that takes cost price and selling price as input and displays whether the transaction is a PROFIT  or LOSS or NEITHER\n"
   ]
  },
  {
   "cell_type": "code",
   "execution_count": 16,
   "metadata": {},
   "outputs": [
    {
     "name": "stdout",
     "output_type": "stream",
     "text": [
      "97\n",
      "65\n",
      "loss\n"
     ]
    }
   ],
   "source": [
    "cost_price = int(input())\n",
    "selling_price = int(input())\n",
    "\n",
    "if selling_price > cost_price :\n",
    "    print(\"profit\")\n",
    "elif cost_price > selling_price :\n",
    "    print(\"loss\")\n",
    "else :\n",
    "    print(\"neither\")"
   ]
  },
  {
   "cell_type": "raw",
   "metadata": {},
   "source": [
    "Q-4 Write a program that takes an amount in Indian Rupees as input. You need to find its equivalent in Euro and display it. Assume 1 Euro equals Rs. 80.\n",
    " "
   ]
  },
  {
   "cell_type": "code",
   "execution_count": 17,
   "metadata": {},
   "outputs": [
    {
     "name": "stdout",
     "output_type": "stream",
     "text": [
      "78\n",
      "6240\n"
     ]
    }
   ],
   "source": [
    "rupees = int(input())\n",
    "print(rupees*80)"
   ]
  },
  {
   "cell_type": "code",
   "execution_count": null,
   "metadata": {},
   "outputs": [],
   "source": []
  }
 ],
 "metadata": {
  "kernelspec": {
   "display_name": "Python 3",
   "language": "python",
   "name": "python3"
  },
  "language_info": {
   "codemirror_mode": {
    "name": "ipython",
    "version": 3
   },
   "file_extension": ".py",
   "mimetype": "text/x-python",
   "name": "python",
   "nbconvert_exporter": "python",
   "pygments_lexer": "ipython3",
   "version": "3.8.3"
  }
 },
 "nbformat": 4,
 "nbformat_minor": 4
}
